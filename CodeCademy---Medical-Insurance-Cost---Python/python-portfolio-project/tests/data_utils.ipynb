{
 "cells": [
  {
   "cell_type": "code",
   "execution_count": 8,
   "id": "177a86bc-66a6-428d-bc5f-05785aa00058",
   "metadata": {},
   "outputs": [],
   "source": [
    "# function that can read the header of the object type: <class '_csv.reader'>\n",
    "def read_header(dataset):\n",
    "    headers = next(dataset)\n",
    "    print(\"Headers: \", headers)"
   ]
  },
  {
   "cell_type": "code",
   "execution_count": 9,
   "id": "29209f5b-73b3-4d1d-999d-fe49dd8ed740",
   "metadata": {},
   "outputs": [],
   "source": [
    "# function that can print the first X rows of the dataset:\n",
    "def print_X_rows(X, data_set):\n",
    "    print(\"First {X} rows: \".format(X=X))\n",
    "    print(data_set.head(X))"
   ]
  },
  {
   "cell_type": "code",
   "execution_count": 14,
   "id": "8d961a8a-a6f5-4b7e-9647-91fad136a0fb",
   "metadata": {},
   "outputs": [],
   "source": [
    "# function that print the unique values (or arguments) for non-numeric (categorical) columns from the dataset, using pandas.\n",
    "def all_unique_categorical_values(df):\n",
    "    # I loop through each column to identify non-numeric columns (not int nor float)\n",
    "    for column in df.columns:\n",
    "        if not pd.api.types.is_numeric_dtype(df[column]):\n",
    "            print(f\"Unique calues in '{column}':\")\n",
    "            print(df[column].unique(),\"\\n\")\n"
   ]
  },
  {
   "cell_type": "code",
   "execution_count": 11,
   "id": "07ca32ed-571b-4984-ac13-ec913c8588f7",
   "metadata": {},
   "outputs": [],
   "source": [
    "# Checking if there are missing values in the dataset:\n",
    "def if_missing_data(df):\n",
    "    missing_values = df.isnull().sum()\n",
    "    print(\"Missing values per column:\")\n",
    "    print(missing_values)"
   ]
  },
  {
   "cell_type": "code",
   "execution_count": 12,
   "id": "996a4629-948f-4ed7-b6a6-cb06ea041c0a",
   "metadata": {},
   "outputs": [],
   "source": [
    "# In which row are the missing values?\n",
    "def where_the_missing_data(df):\n",
    "    print(df[df.isnull().any(axis=1)])"
   ]
  },
  {
   "cell_type": "code",
   "execution_count": 13,
   "id": "bdc064bc-ab26-4f6a-9ea0-67e193f9001b",
   "metadata": {},
   "outputs": [
    {
     "name": "stderr",
     "output_type": "stream",
     "text": [
      "[NbConvertApp] Converting notebook data_utils.ipynb to script\n",
      "[NbConvertApp] Writing 1300 bytes to data_utils.py\n"
     ]
    }
   ],
   "source": [
    "!jupyter nbconvert --to script data_utils.ipynb"
   ]
  },
  {
   "cell_type": "code",
   "execution_count": null,
   "id": "ffbbad4e-d934-47c5-a804-7ce8721ec046",
   "metadata": {},
   "outputs": [],
   "source": []
  },
  {
   "cell_type": "code",
   "execution_count": null,
   "id": "f72f873c-c895-4f88-80a9-29f6a462c804",
   "metadata": {},
   "outputs": [],
   "source": []
  },
  {
   "cell_type": "code",
   "execution_count": null,
   "id": "860f07da-4541-45bb-8c7c-e127186c0a10",
   "metadata": {},
   "outputs": [],
   "source": []
  }
 ],
 "metadata": {
  "kernelspec": {
   "display_name": "Python 3 (ipykernel)",
   "language": "python",
   "name": "python3"
  },
  "language_info": {
   "codemirror_mode": {
    "name": "ipython",
    "version": 3
   },
   "file_extension": ".py",
   "mimetype": "text/x-python",
   "name": "python",
   "nbconvert_exporter": "python",
   "pygments_lexer": "ipython3",
   "version": "3.12.7"
  }
 },
 "nbformat": 4,
 "nbformat_minor": 5
}
