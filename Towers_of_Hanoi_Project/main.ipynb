{
 "cells": [
  {
   "cell_type": "markdown",
   "id": "79f0d248-c4ec-4ffd-b0be-eaa09496737c",
   "metadata": {},
   "source": [
    "## Towers of Hanoi - Project within CodeCademy Python Course\n"
   ]
  },
  {
   "cell_type": "markdown",
   "id": "ddf3a566-7e01-4abe-9acb-2e31c68dddf2",
   "metadata": {},
   "source": [
    "Towers of Hanoi is an ancient mathematical puzzle that starts off with three stacks and many disks.\n",
    "The objective of the game is to move the stack of disks from the leftmost stack to the rightmost stack.\n",
    "\n",
    "The game follows three rules:\n",
    "\n",
    "1. Only one disk can be moved at a time.\n",
    "2. Each move consists of taking the upper disk from one of the stacks and placing it on top of another stack or on an empty rod.\n",
    "3. No disk may be placed on top of a smaller disk."
   ]
  },
  {
   "cell_type": "code",
   "execution_count": 1,
   "id": "045d0ecb-385a-4275-9547-96754c42e00c",
   "metadata": {},
   "outputs": [],
   "source": [
    "from stack import Stack"
   ]
  },
  {
   "cell_type": "code",
   "execution_count": 2,
   "id": "9d9e08f4-a9ca-4530-b9cc-521b93bf63b5",
   "metadata": {},
   "outputs": [],
   "source": [
    "#Creating the Stacks\n",
    "stacks = []\n",
    "\n",
    "left_stack = Stack(\"Left\")\n",
    "middle_stack = Stack(\"Middle\")\n",
    "right_stack = Stack(\"Right\")\n",
    "\n",
    "stacks.append(left_stack)\n",
    "stacks.append(middle_stack)\n",
    "stacks.append(right_stack)\n"
   ]
  },
  {
   "cell_type": "code",
   "execution_count": 8,
   "id": "9b2e412f-7adc-450c-bf3f-38a88e9d8ade",
   "metadata": {},
   "outputs": [
    {
     "name": "stdin",
     "output_type": "stream",
     "text": [
      "\n",
      "How many disks do you want to play with?\n",
      " 3\n"
     ]
    },
    {
     "name": "stdout",
     "output_type": "stream",
     "text": [
      "\n",
      "The fastest you can solve this game is in 7\n"
     ]
    }
   ],
   "source": [
    "#Setting up the Game - creating disks\n",
    "num_disks = int(input(\"\\nHow many disks do you want to play with?\\n\"))\n",
    "while(num_disks < 3):\n",
    "  num_disks = int(input(\"\\nEnter a number greater than or equal to 3\\n\"))\n",
    "for disk in range(num_disks, 0, -1):\n",
    "  #print(disk)\n",
    "  left_stack.push(disk)\n",
    "#the number of optimal moves:\n",
    "num_optimal_moves = 2**num_disks - 1\n",
    "print(f\"\\nThe fastest you can solve this game is in {num_optimal_moves}\")"
   ]
  },
  {
   "cell_type": "code",
   "execution_count": 4,
   "id": "92fcdd32-9549-4d58-8952-672e33e7449e",
   "metadata": {},
   "outputs": [],
   "source": [
    "# Function for getting User input\n",
    "def get_input():\n",
    "  choices = [stack.get_name()[0] for stack in stacks]#['L', 'M', 'R']\n",
    "  while (True):\n",
    "    for i in range(len(stacks)):\n",
    "      name = stacks[i].get_name()\n",
    "      letter = choices[i]\n",
    "      print(f\"Enter {letter} for {name}\")\n",
    "    try:\n",
    "      user_input = input(\"\\nEnter a letter:\\n\")\n",
    "    except EOFError:\n",
    "      print(\"Input error, please try again.\")\n",
    "    if user_input in choices:\n",
    "      for i in range(len(stacks)):\n",
    "        if user_input == choices[i]:\n",
    "          return stacks[i]    \n",
    "    else:\n",
    "      print(\"Input error, please try again.\")"
   ]
  },
  {
   "cell_type": "code",
   "execution_count": 7,
   "id": "7953e1b9-1abe-46e4-a2e9-344837a4550b",
   "metadata": {},
   "outputs": [
    {
     "name": "stdout",
     "output_type": "stream",
     "text": [
      "\n",
      "\n",
      "\n",
      "...Current Stacks...\n",
      "Left Stack: [3, 2, 1]\n",
      "Middle Stack: []\n",
      "Right Stack: []\n",
      "\n",
      "Which stack do you want to move from?\n",
      "\n",
      "Enter L for Left\n",
      "Enter M for Middle\n",
      "Enter R for Right\n"
     ]
    },
    {
     "name": "stdin",
     "output_type": "stream",
     "text": [
      "\n",
      "Enter a letter:\n",
      " L\n"
     ]
    },
    {
     "name": "stdout",
     "output_type": "stream",
     "text": [
      "\n",
      "Which stack do you want to move to?\n",
      "\n",
      "Enter L for Left\n",
      "Enter M for Middle\n",
      "Enter R for Right\n"
     ]
    },
    {
     "name": "stdin",
     "output_type": "stream",
     "text": [
      "\n",
      "Enter a letter:\n",
      " G\n"
     ]
    },
    {
     "name": "stdout",
     "output_type": "stream",
     "text": [
      "Input error, please try again.\n",
      "Enter L for Left\n",
      "Enter M for Middle\n",
      "Enter R for Right\n"
     ]
    },
    {
     "name": "stdin",
     "output_type": "stream",
     "text": [
      "\n",
      "Enter a letter:\n",
      " R\n"
     ]
    },
    {
     "name": "stdout",
     "output_type": "stream",
     "text": [
      "\n",
      "\n",
      "\n",
      "...Current Stacks...\n",
      "Left Stack: [3, 2]\n",
      "Middle Stack: []\n",
      "Right Stack: [1]\n",
      "\n",
      "Which stack do you want to move from?\n",
      "\n",
      "Enter L for Left\n",
      "Enter M for Middle\n",
      "Enter R for Right\n"
     ]
    },
    {
     "name": "stdin",
     "output_type": "stream",
     "text": [
      "\n",
      "Enter a letter:\n",
      " L\n"
     ]
    },
    {
     "name": "stdout",
     "output_type": "stream",
     "text": [
      "\n",
      "Which stack do you want to move to?\n",
      "\n",
      "Enter L for Left\n",
      "Enter M for Middle\n",
      "Enter R for Right\n"
     ]
    },
    {
     "name": "stdin",
     "output_type": "stream",
     "text": [
      "\n",
      "Enter a letter:\n",
      " L\n"
     ]
    },
    {
     "name": "stdout",
     "output_type": "stream",
     "text": [
      "\n",
      "\n",
      "Invalid Move. Try Again.\n",
      "\n",
      "Which stack do you want to move from?\n",
      "\n",
      "Enter L for Left\n",
      "Enter M for Middle\n",
      "Enter R for Right\n"
     ]
    },
    {
     "name": "stdin",
     "output_type": "stream",
     "text": [
      "\n",
      "Enter a letter:\n",
      " L\n"
     ]
    },
    {
     "name": "stdout",
     "output_type": "stream",
     "text": [
      "\n",
      "Which stack do you want to move to?\n",
      "\n",
      "Enter L for Left\n",
      "Enter M for Middle\n",
      "Enter R for Right\n"
     ]
    },
    {
     "name": "stdin",
     "output_type": "stream",
     "text": [
      "\n",
      "Enter a letter:\n",
      " M\n"
     ]
    },
    {
     "name": "stdout",
     "output_type": "stream",
     "text": [
      "\n",
      "\n",
      "\n",
      "...Current Stacks...\n",
      "Left Stack: [3]\n",
      "Middle Stack: [2]\n",
      "Right Stack: [1]\n",
      "\n",
      "Which stack do you want to move from?\n",
      "\n",
      "Enter L for Left\n",
      "Enter M for Middle\n",
      "Enter R for Right\n"
     ]
    },
    {
     "name": "stdin",
     "output_type": "stream",
     "text": [
      "\n",
      "Enter a letter:\n",
      " R\n"
     ]
    },
    {
     "name": "stdout",
     "output_type": "stream",
     "text": [
      "\n",
      "Which stack do you want to move to?\n",
      "\n",
      "Enter L for Left\n",
      "Enter M for Middle\n",
      "Enter R for Right\n"
     ]
    },
    {
     "name": "stdin",
     "output_type": "stream",
     "text": [
      "\n",
      "Enter a letter:\n",
      " M\n"
     ]
    },
    {
     "name": "stdout",
     "output_type": "stream",
     "text": [
      "\n",
      "\n",
      "\n",
      "...Current Stacks...\n",
      "Left Stack: [3]\n",
      "Middle Stack: [2, 1]\n",
      "Right Stack: []\n",
      "\n",
      "Which stack do you want to move from?\n",
      "\n",
      "Enter L for Left\n",
      "Enter M for Middle\n",
      "Enter R for Right\n"
     ]
    },
    {
     "name": "stdin",
     "output_type": "stream",
     "text": [
      "\n",
      "Enter a letter:\n",
      " L\n"
     ]
    },
    {
     "name": "stdout",
     "output_type": "stream",
     "text": [
      "\n",
      "Which stack do you want to move to?\n",
      "\n",
      "Enter L for Left\n",
      "Enter M for Middle\n",
      "Enter R for Right\n"
     ]
    },
    {
     "name": "stdin",
     "output_type": "stream",
     "text": [
      "\n",
      "Enter a letter:\n",
      " R\n"
     ]
    },
    {
     "name": "stdout",
     "output_type": "stream",
     "text": [
      "\n",
      "\n",
      "\n",
      "...Current Stacks...\n",
      "Left Stack: []\n",
      "Middle Stack: [2, 1]\n",
      "Right Stack: [3]\n",
      "\n",
      "Which stack do you want to move from?\n",
      "\n",
      "Enter L for Left\n",
      "Enter M for Middle\n",
      "Enter R for Right\n"
     ]
    },
    {
     "name": "stdin",
     "output_type": "stream",
     "text": [
      "\n",
      "Enter a letter:\n",
      " M\n"
     ]
    },
    {
     "name": "stdout",
     "output_type": "stream",
     "text": [
      "\n",
      "Which stack do you want to move to?\n",
      "\n",
      "Enter L for Left\n",
      "Enter M for Middle\n",
      "Enter R for Right\n"
     ]
    },
    {
     "name": "stdin",
     "output_type": "stream",
     "text": [
      "\n",
      "Enter a letter:\n",
      " L\n"
     ]
    },
    {
     "name": "stdout",
     "output_type": "stream",
     "text": [
      "\n",
      "\n",
      "\n",
      "...Current Stacks...\n",
      "Left Stack: [1]\n",
      "Middle Stack: [2]\n",
      "Right Stack: [3]\n",
      "\n",
      "Which stack do you want to move from?\n",
      "\n",
      "Enter L for Left\n",
      "Enter M for Middle\n",
      "Enter R for Right\n"
     ]
    },
    {
     "name": "stdin",
     "output_type": "stream",
     "text": [
      "\n",
      "Enter a letter:\n",
      " M\n"
     ]
    },
    {
     "name": "stdout",
     "output_type": "stream",
     "text": [
      "\n",
      "Which stack do you want to move to?\n",
      "\n",
      "Enter L for Left\n",
      "Enter M for Middle\n",
      "Enter R for Right\n"
     ]
    },
    {
     "name": "stdin",
     "output_type": "stream",
     "text": [
      "\n",
      "Enter a letter:\n",
      " R\n"
     ]
    },
    {
     "name": "stdout",
     "output_type": "stream",
     "text": [
      "\n",
      "\n",
      "\n",
      "...Current Stacks...\n",
      "Left Stack: [1]\n",
      "Middle Stack: []\n",
      "Right Stack: [3, 2]\n",
      "\n",
      "Which stack do you want to move from?\n",
      "\n",
      "Enter L for Left\n",
      "Enter M for Middle\n",
      "Enter R for Right\n"
     ]
    },
    {
     "name": "stdin",
     "output_type": "stream",
     "text": [
      "\n",
      "Enter a letter:\n",
      " L\n"
     ]
    },
    {
     "name": "stdout",
     "output_type": "stream",
     "text": [
      "\n",
      "Which stack do you want to move to?\n",
      "\n",
      "Enter L for Left\n",
      "Enter M for Middle\n",
      "Enter R for Right\n"
     ]
    },
    {
     "name": "stdin",
     "output_type": "stream",
     "text": [
      "\n",
      "Enter a letter:\n",
      " R\n"
     ]
    },
    {
     "name": "stdout",
     "output_type": "stream",
     "text": [
      "\n",
      "\n",
      "You completed the game in 7 moves, and the optimal number of moves is 7\n"
     ]
    }
   ],
   "source": [
    "#Playing the Game: Looping until the right stack is full\n",
    "\n",
    "num_user_moves = 0\n",
    "while (right_stack.get_size() != num_disks):\n",
    "  print(\"\\n\\n\\n...Current Stacks...\")\n",
    "  for i in range(len(stacks)):\n",
    "    stacks[i].print_items()\n",
    "  while (True):\n",
    "    print(\"\\nWhich stack do you want to move from?\\n\")\n",
    "    from_stack = get_input()\n",
    "    if from_stack.is_empty():\n",
    "      print(\"\\n\\nInvalid Move. Try Again\")\n",
    "    print(\"\\nWhich stack do you want to move to?\\n\")\n",
    "    to_stack = get_input()\n",
    "    if to_stack.is_empty() or (to_stack.peek() is not None and from_stack.peek() < to_stack.peek()):\n",
    "    #if to_stack.is_empty() or from_stack.peek() < to_stack.peek():\n",
    "      disk = from_stack.pop()\n",
    "      to_stack.push(disk)\n",
    "      num_user_moves += 1\n",
    "      break\n",
    "    else:\n",
    "      print(\"\\n\\nInvalid Move. Try Again.\")\n",
    "\n",
    "print(F\"\\n\\nYou completed the game in {num_user_moves} moves, and the optimal number of moves is {num_optimal_moves}\")"
   ]
  },
  {
   "cell_type": "code",
   "execution_count": null,
   "id": "c313d4c4-983e-45e7-b13c-eff73e4ec839",
   "metadata": {},
   "outputs": [],
   "source": []
  }
 ],
 "metadata": {
  "kernelspec": {
   "display_name": "Python 3 (ipykernel)",
   "language": "python",
   "name": "python3"
  },
  "language_info": {
   "codemirror_mode": {
    "name": "ipython",
    "version": 3
   },
   "file_extension": ".py",
   "mimetype": "text/x-python",
   "name": "python",
   "nbconvert_exporter": "python",
   "pygments_lexer": "ipython3",
   "version": "3.12.7"
  }
 },
 "nbformat": 4,
 "nbformat_minor": 5
}
