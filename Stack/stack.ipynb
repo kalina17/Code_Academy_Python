{
 "cells": [
  {
   "cell_type": "markdown",
   "id": "e464ae86-a35b-4fd0-9964-13ce25f4befe",
   "metadata": {},
   "source": [
    "## Playing with the Stack – CodeCademy"
   ]
  },
  {
   "cell_type": "code",
   "execution_count": 4,
   "id": "dee1b8e6-d2df-4660-b1eb-a9d7c8b667f7",
   "metadata": {},
   "outputs": [
    {
     "name": "stdout",
     "output_type": "stream",
     "text": [
      "['.ipynb_checkpoints', 'node.py', 'stack.ipynb', '__pycache__']\n"
     ]
    }
   ],
   "source": [
    "import os\n",
    "print(os.listdir()) #ensuring that my file node.py is in the same folder"
   ]
  },
  {
   "cell_type": "code",
   "execution_count": 3,
   "id": "e9d3cb70-ef9e-4b8c-9e9e-e5a496f5dded",
   "metadata": {},
   "outputs": [
    {
     "ename": "SyntaxError",
     "evalue": "invalid syntax (2627107291.py, line 1)",
     "output_type": "error",
     "traceback": [
      "\u001b[1;36m  Cell \u001b[1;32mIn[3], line 1\u001b[1;36m\u001b[0m\n\u001b[1;33m    import node import Node #importing class Node from the node.py file\u001b[0m\n\u001b[1;37m                ^\u001b[0m\n\u001b[1;31mSyntaxError\u001b[0m\u001b[1;31m:\u001b[0m invalid syntax\n"
     ]
    }
   ],
   "source": [
    "import node import Node #importing class Node from the node.py file"
   ]
  },
  {
   "cell_type": "markdown",
   "id": "0c2eb209-630d-4848-864e-f057489f5072",
   "metadata": {},
   "source": [
    "### Class Stack"
   ]
  },
  {
   "cell_type": "code",
   "execution_count": null,
   "id": "8765aca4-c626-4c4b-bbee-1d3117182bd3",
   "metadata": {},
   "outputs": [],
   "source": [
    "class Stack:\n",
    "  def __init__(self, limit=1000):\n",
    "    self.top_item = None\n",
    "    self.size = 0\n",
    "    self.limit = limit\n",
    "  \n",
    "  def push(self, value):\n",
    "    if self.has_space():\n",
    "      item = Node(value)\n",
    "      item.set_next_node(self.top_item)\n",
    "      self.top_item = item\n",
    "      self.size += 1\n",
    "      print(\"Adding {} to the pizza stack!\".format(value))\n",
    "    else:\n",
    "      print(\"No room for {}!\".format(value))\n",
    "\n",
    "  def pop(self):\n",
    "    if not self.is_empty():\n",
    "      item_to_remove = self.top_item\n",
    "      self.top_item = item_to_remove.get_next_node()\n",
    "      self.size -= 1\n",
    "      print(\"Delivering \" + item_to_remove.get_value())\n",
    "      return item_to_remove.get_value()\n",
    "    print(\"All out of pizza.\")\n",
    "\n",
    "  def peek(self):\n",
    "    if not self.is_empty():\n",
    "      return self.top_item.get_value()\n",
    "    print(\"Nothing to see here!\")\n",
    "\n",
    "  def has_space(self):\n",
    "    return self.limit > self.size\n",
    "\n",
    "  def is_empty(self):\n",
    "    return self.size == 0"
   ]
  },
  {
   "cell_type": "markdown",
   "id": "0e10d0a7-c72f-4953-aa38-e97e98a84e03",
   "metadata": {},
   "source": [
    "### Testing!"
   ]
  },
  {
   "cell_type": "code",
   "execution_count": null,
   "id": "3138eba3-04a7-4a46-a180-4fddc3a507b3",
   "metadata": {},
   "outputs": [],
   "source": [
    "# Defining an empty pizza stack with the limit of 5 pizzas\n",
    "pizza_stack = Stack(5)"
   ]
  },
  {
   "cell_type": "code",
   "execution_count": null,
   "id": "5f8345b7-1cfd-4f00-b079-b3bf40108a91",
   "metadata": {},
   "outputs": [],
   "source": [
    "# Adding pizzas to the stack as they are being taken out of the oven and ready for delivery\n",
    "pizza_stack.push(\"#1 Pizza Margherita\")\n",
    "pizza_stack.push(\"#2 Pizza Caprese\")\n",
    "pizza_stack.push(\"#3 Pizza Four Cheese\")\n",
    "pizza_stack.push(\"#4 Pizza Marinara\")\n",
    "pizza_stack.push(\"#5 Pizza Mushroom and Spinach\")\n"
   ]
  },
  {
   "cell_type": "code",
   "execution_count": null,
   "id": "43ee3fe9-661c-434c-bee8-926d64c16e10",
   "metadata": {},
   "outputs": [],
   "source": [
    "# Adding the pizza that doesn't fit in the stack:\n",
    "pizza_stack.push(\"#6 Pizza Pesto Veggie\")"
   ]
  },
  {
   "cell_type": "code",
   "execution_count": null,
   "id": "5761b385-0063-4341-b5bc-215ce09191c5",
   "metadata": {},
   "outputs": [],
   "source": [
    "# Delivering pizzas from the top of the stack down\n",
    "print(\"The first pizza to deliver is \" + pizza_stack.peek())"
   ]
  },
  {
   "cell_type": "code",
   "execution_count": null,
   "id": "50c536ce-d095-4281-9183-9107ac8042e5",
   "metadata": {},
   "outputs": [],
   "source": [
    "# removing items from the stack\n",
    "pizza_stack.pop()\n",
    "pizza_stack.pop()\n",
    "pizza_stack.pop()\n",
    "pizza_stack.pop()\n",
    "pizza_stack.pop()\n"
   ]
  },
  {
   "cell_type": "code",
   "execution_count": null,
   "id": "2be4e285-d4f7-4e77-a6bd-077a5559f228",
   "metadata": {},
   "outputs": [],
   "source": [
    "# Now, there is a space for #6 Pizza Pesto Veggie :)\n",
    "pizza_stack.push(\"#6 Pizza Pesto Veggie\")"
   ]
  },
  {
   "cell_type": "code",
   "execution_count": null,
   "id": "c95f66c1-2fcf-422d-baab-1b429b962fc4",
   "metadata": {},
   "outputs": [],
   "source": []
  }
 ],
 "metadata": {
  "kernelspec": {
   "display_name": "Python 3 (ipykernel)",
   "language": "python",
   "name": "python3"
  },
  "language_info": {
   "codemirror_mode": {
    "name": "ipython",
    "version": 3
   },
   "file_extension": ".py",
   "mimetype": "text/x-python",
   "name": "python",
   "nbconvert_exporter": "python",
   "pygments_lexer": "ipython3",
   "version": "3.12.7"
  }
 },
 "nbformat": 4,
 "nbformat_minor": 5
}
