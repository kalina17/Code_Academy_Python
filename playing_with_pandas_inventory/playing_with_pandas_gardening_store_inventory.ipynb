{
 "cells": [
  {
   "cell_type": "markdown",
   "id": "d29f6b32-0a82-4990-8d9b-c9dd2dc6b316",
   "metadata": {},
   "source": [
    "### **Playing with Pandas - Supporting gardening store in analyzing their inventory:**"
   ]
  },
  {
   "cell_type": "code",
   "execution_count": 1,
   "id": "76437100-90e4-4f7d-bf69-f1df117ca216",
   "metadata": {},
   "outputs": [],
   "source": [
    "import pandas as pd"
   ]
  },
  {
   "cell_type": "code",
   "execution_count": 2,
   "id": "e7f63e6b-a16b-4b73-8019-0f185e0d00ca",
   "metadata": {},
   "outputs": [],
   "source": [
    "# Loading the data into a DataFrame called inventory:\n",
    "inventory = pd.read_csv(\"inventory.csv\")"
   ]
  },
  {
   "cell_type": "code",
   "execution_count": 3,
   "id": "e7890c80-473a-4194-86ba-0e5cdfab6b38",
   "metadata": {},
   "outputs": [
    {
     "name": "stdout",
     "output_type": "stream",
     "text": [
      "        location  product_type         product_description  quantity  price\n",
      "0  Staten Island         seeds                       daisy         4   6.99\n",
      "1  Staten Island         seeds                  calla lily        46  19.99\n",
      "2  Staten Island         seeds                      tomato        85  13.99\n",
      "3  Staten Island  garden tools                        rake         4  13.99\n",
      "4  Staten Island  garden tools                 wheelbarrow         0  89.99\n",
      "5  Staten Island  garden tools                       spade        93  19.99\n",
      "6  Staten Island  pest_control               insect killer        74  12.99\n",
      "7  Staten Island  pest_control                 weed killer         8  23.99\n",
      "8  Staten Island       planter  20 inch terracotta planter         0  17.99\n",
      "9  Staten Island       planter      8 inch plastic planter        53   3.99\n"
     ]
    }
   ],
   "source": [
    "# Inspecting the first 10 rows of inventory\n",
    "print(inventory.head(10))"
   ]
  },
  {
   "cell_type": "code",
   "execution_count": 4,
   "id": "5e23edc7-02ff-4889-8050-155422ed75c5",
   "metadata": {},
   "outputs": [
    {
     "name": "stdout",
     "output_type": "stream",
     "text": [
      "        location  product_type         product_description  quantity  price\n",
      "0  Staten Island         seeds                       daisy         4   6.99\n",
      "1  Staten Island         seeds                  calla lily        46  19.99\n",
      "2  Staten Island         seeds                      tomato        85  13.99\n",
      "3  Staten Island  garden tools                        rake         4  13.99\n",
      "4  Staten Island  garden tools                 wheelbarrow         0  89.99\n",
      "5  Staten Island  garden tools                       spade        93  19.99\n",
      "6  Staten Island  pest_control               insect killer        74  12.99\n",
      "7  Staten Island  pest_control                 weed killer         8  23.99\n",
      "8  Staten Island       planter  20 inch terracotta planter         0  17.99\n",
      "9  Staten Island       planter      8 inch plastic planter        53   3.99\n"
     ]
    }
   ],
   "source": [
    "# Selecting rows representing data from Staten Island location\n",
    "staten_island = inventory[inventory[\"location\"]==\"Staten Island\"]\n",
    "\n",
    "print(staten_island)"
   ]
  },
  {
   "cell_type": "code",
   "execution_count": 5,
   "id": "5b4abdd3-38c8-44a2-9b15-1e2ecc5e88f0",
   "metadata": {},
   "outputs": [
    {
     "name": "stdout",
     "output_type": "stream",
     "text": [
      "0                         daisy\n",
      "1                    calla lily\n",
      "2                        tomato\n",
      "3                          rake\n",
      "4                   wheelbarrow\n",
      "5                         spade\n",
      "6                 insect killer\n",
      "7                   weed killer\n",
      "8    20 inch terracotta planter\n",
      "9        8 inch plastic planter\n",
      "Name: product_description, dtype: object\n"
     ]
    }
   ],
   "source": [
    "# What products are sold at Staten Island location?\n",
    "product_request = staten_island.product_description\n",
    "print(product_request)"
   ]
  },
  {
   "cell_type": "code",
   "execution_count": 6,
   "id": "8c153e5d-4591-4932-bedd-095fe48f677e",
   "metadata": {},
   "outputs": [
    {
     "name": "stdout",
     "output_type": "stream",
     "text": [
      "    location product_type product_description  quantity  price\n",
      "10  Brooklyn        seeds               daisy        50   6.99\n",
      "11  Brooklyn        seeds          calla lily         0  19.99\n",
      "12  Brooklyn        seeds              tomato         0  13.99\n"
     ]
    }
   ],
   "source": [
    "# What types of seeds are sold at the Brooklyn location?\n",
    "seeds_request = inventory[(inventory.location == 'Brooklyn') & (inventory.product_type == 'seeds')]\n",
    "\n",
    "print(seeds_request)"
   ]
  },
  {
   "cell_type": "code",
   "execution_count": 10,
   "id": "e3fc083d-4ba8-4ffb-be32-3906d7770c07",
   "metadata": {},
   "outputs": [
    {
     "name": "stdout",
     "output_type": "stream",
     "text": [
      "        location  product_type product_description  quantity  price  in_stock\n",
      "0  Staten Island         seeds               daisy         4   6.99      True\n",
      "1  Staten Island         seeds          calla lily        46  19.99      True\n",
      "2  Staten Island         seeds              tomato        85  13.99      True\n",
      "3  Staten Island  garden tools                rake         4  13.99      True\n",
      "4  Staten Island  garden tools         wheelbarrow         0  89.99     False\n",
      "5  Staten Island  garden tools               spade        93  19.99      True\n",
      "6  Staten Island  pest_control       insect killer        74  12.99      True\n"
     ]
    }
   ],
   "source": [
    "# Adding a column to inventory called in_stock which is True if quantity is greater than 0 and False if quantity equals 0.\n",
    "stock_func = lambda row: True if row['quantity'] > 0 else False\n",
    "inventory['in_stock'] = inventory.apply(stock_func, axis=1)\n",
    "print(inventory.head(7))"
   ]
  },
  {
   "cell_type": "code",
   "execution_count": 14,
   "id": "87eebe2f-7a14-426e-80e6-b7d0b7dfbd46",
   "metadata": {},
   "outputs": [
    {
     "name": "stdout",
     "output_type": "stream",
     "text": [
      "        location  product_type product_description  quantity  price  in_stock  \\\n",
      "0  Staten Island         seeds               daisy         4   6.99      True   \n",
      "1  Staten Island         seeds          calla lily        46  19.99      True   \n",
      "2  Staten Island         seeds              tomato        85  13.99      True   \n",
      "3  Staten Island  garden tools                rake         4  13.99      True   \n",
      "4  Staten Island  garden tools         wheelbarrow         0  89.99     False   \n",
      "5  Staten Island  garden tools               spade        93  19.99      True   \n",
      "\n",
      "   total_value  \n",
      "0        27.96  \n",
      "1       919.54  \n",
      "2      1189.15  \n",
      "3        55.96  \n",
      "4         0.00  \n",
      "5      1859.07  \n"
     ]
    }
   ],
   "source": [
    "# How valuable current inventory is?\n",
    "inventory['total_value'] = inventory.price * inventory.quantity\n",
    "print(inventory.head(6))"
   ]
  },
  {
   "cell_type": "code",
   "execution_count": 15,
   "id": "fd600dbe-fa60-47e0-96c6-50dab2cd44c7",
   "metadata": {},
   "outputs": [
    {
     "name": "stdout",
     "output_type": "stream",
     "text": [
      "        location  product_type product_description  quantity  price  in_stock  \\\n",
      "0  Staten Island         seeds               daisy         4   6.99      True   \n",
      "1  Staten Island         seeds          calla lily        46  19.99      True   \n",
      "2  Staten Island         seeds              tomato        85  13.99      True   \n",
      "3  Staten Island  garden tools                rake         4  13.99      True   \n",
      "4  Staten Island  garden tools         wheelbarrow         0  89.99     False   \n",
      "\n",
      "   total_value            full_description  \n",
      "0        27.96               seeds - daisy  \n",
      "1       919.54          seeds - calla lily  \n",
      "2      1189.15              seeds - tomato  \n",
      "3        55.96         garden tools - rake  \n",
      "4         0.00  garden tools - wheelbarrow  \n"
     ]
    }
   ],
   "source": [
    "# Creating a complete description of each product for catalog and adding it to a new column \"full_description\"\n",
    "combine_lambda = lambda row: '{} - {}'.format(row.product_type, row.product_description)\n",
    "\n",
    "inventory['full_description'] = inventory.apply(combine_lambda, axis=1)\n",
    "\n",
    "print(inventory.head(5))"
   ]
  },
  {
   "cell_type": "code",
   "execution_count": null,
   "id": "7a979a27-7001-4b02-b753-c11add129a50",
   "metadata": {},
   "outputs": [],
   "source": []
  }
 ],
 "metadata": {
  "kernelspec": {
   "display_name": "Python 3 (ipykernel)",
   "language": "python",
   "name": "python3"
  },
  "language_info": {
   "codemirror_mode": {
    "name": "ipython",
    "version": 3
   },
   "file_extension": ".py",
   "mimetype": "text/x-python",
   "name": "python",
   "nbconvert_exporter": "python",
   "pygments_lexer": "ipython3",
   "version": "3.12.7"
  }
 },
 "nbformat": 4,
 "nbformat_minor": 5
}
