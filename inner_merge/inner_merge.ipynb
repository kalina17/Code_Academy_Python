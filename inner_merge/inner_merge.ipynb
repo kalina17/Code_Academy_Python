{
 "cells": [
  {
   "cell_type": "code",
   "execution_count": 3,
   "id": "2dc3254d-22d8-4cf2-89be-36d0f46ab139",
   "metadata": {},
   "outputs": [],
   "source": [
    "import pandas as pd"
   ]
  },
  {
   "cell_type": "code",
   "execution_count": 9,
   "id": "c175c1bc-249d-4915-83b9-fb22d14133d9",
   "metadata": {},
   "outputs": [
    {
     "name": "stdout",
     "output_type": "stream",
     "text": [
      "      month  revenue\n",
      "0   January      300\n",
      "1  February      290\n",
      "2     March      310\n",
      "3     April      325\n",
      "4       May      475\n",
      "5      June      495\n"
     ]
    }
   ],
   "source": [
    "sales = pd.read_csv('sales.csv')\n",
    "print(sales)"
   ]
  },
  {
   "cell_type": "code",
   "execution_count": 10,
   "id": "dee42f25-7224-4a30-b9a6-58acb700d82f",
   "metadata": {},
   "outputs": [
    {
     "name": "stdout",
     "output_type": "stream",
     "text": [
      "      month  target\n",
      "0   January     310\n",
      "1  February     270\n",
      "2     March     300\n",
      "3     April     350\n",
      "4       May     475\n",
      "5      June     500\n"
     ]
    }
   ],
   "source": [
    "targets = pd.read_csv('targets.csv')\n",
    "print(targets)"
   ]
  },
  {
   "cell_type": "code",
   "execution_count": 11,
   "id": "1cebfb93-236e-443a-bb4c-4bd65bb42260",
   "metadata": {},
   "outputs": [
    {
     "name": "stdout",
     "output_type": "stream",
     "text": [
      "      month  men  women\n",
      "0   January   30     35\n",
      "1  February   29     35\n",
      "2     March   31     29\n",
      "3     April   32     28\n",
      "4       May   47     50\n",
      "5      June   49     45\n"
     ]
    }
   ],
   "source": [
    "men_women_sales = pd.read_csv('men_women_sales.csv')\n",
    "print(men_women_sales)"
   ]
  },
  {
   "cell_type": "code",
   "execution_count": 13,
   "id": "ca509c3e-adb4-4f2c-b2fb-c0a6ac6b1024",
   "metadata": {},
   "outputs": [
    {
     "name": "stdout",
     "output_type": "stream",
     "text": [
      "      month  revenue  target  men  women\n",
      "0   January      300     310   30     35\n",
      "1  February      290     270   29     35\n",
      "2     March      310     300   31     29\n",
      "3     April      325     350   32     28\n",
      "4       May      475     475   47     50\n",
      "5      June      495     500   49     45\n"
     ]
    }
   ],
   "source": [
    "# Merging all the datasets together:\n",
    "all_data = sales.merge(targets).merge(men_women_sales)\n",
    "print(all_data)"
   ]
  },
  {
   "cell_type": "code",
   "execution_count": 16,
   "id": "abbe1aed-9e99-4825-b0df-9050d972b0b5",
   "metadata": {},
   "outputs": [
    {
     "name": "stdout",
     "output_type": "stream",
     "text": [
      "      month  revenue  target  men  women\n",
      "1  February      290     270   29     35\n",
      "2     March      310     300   31     29\n"
     ]
    }
   ],
   "source": [
    "# Checking in which months there was more revenue than targeted:\n",
    "higher_revenue = all_data[all_data.revenue > all_data.target]\n",
    "print(higher_revenue)"
   ]
  },
  {
   "cell_type": "code",
   "execution_count": 17,
   "id": "80c9f333-35ea-4547-a2a1-9ff50364ef8c",
   "metadata": {},
   "outputs": [
    {
     "name": "stdout",
     "output_type": "stream",
     "text": [
      "      month  revenue  target  men  women\n",
      "1  February      290     270   29     35\n"
     ]
    }
   ],
   "source": [
    "# Checking if there is more revenue in months where more women's t-shirts got sold [NOT TRUE!!!!]\n",
    "results = all_data[(all_data.revenue > all_data.target) & (all_data.women > all_data.men)]\n",
    "print(results)"
   ]
  },
  {
   "cell_type": "code",
   "execution_count": null,
   "id": "8aad6805-e3b0-4b4c-ace7-ce3300083c6c",
   "metadata": {},
   "outputs": [],
   "source": []
  }
 ],
 "metadata": {
  "kernelspec": {
   "display_name": "Python 3 (ipykernel)",
   "language": "python",
   "name": "python3"
  },
  "language_info": {
   "codemirror_mode": {
    "name": "ipython",
    "version": 3
   },
   "file_extension": ".py",
   "mimetype": "text/x-python",
   "name": "python",
   "nbconvert_exporter": "python",
   "pygments_lexer": "ipython3",
   "version": "3.12.7"
  }
 },
 "nbformat": 4,
 "nbformat_minor": 5
}
