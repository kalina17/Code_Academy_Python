{
 "cells": [
  {
   "cell_type": "markdown",
   "metadata": {},
   "source": [
    "# PLAYING WITH DATA = This is Jeopardy!"
   ]
  },
  {
   "cell_type": "markdown",
   "metadata": {},
   "source": [
    "#### Project Goals"
   ]
  },
  {
   "cell_type": "markdown",
   "metadata": {},
   "source": [
    "To write several functions that investigate a dataset of _Jeopardy!_ questions and answers. To filter the dataset for interesting topics, to compute the average difficulty of those questions."
   ]
  },
  {
   "cell_type": "markdown",
   "metadata": {},
   "source": [
    "1. First steps:\n",
    "   - Loading the data into a DataFrame from a csv file named `jeopardy.csv` and containing data about the game show _Jeopardy!_\n",
    "   - investigating file content\n",
    "   - printing out specific columns\n",
    "   - cleaning data and renaming the columns\n",
    "   "
   ]
  },
  {
   "cell_type": "code",
   "execution_count": 1,
   "metadata": {},
   "outputs": [],
   "source": [
    "import pandas as pd\n",
    "pd.set_option('display.max_colwidth', None)\n",
    "# In order to display the full contents of a column, this line of code was added: pd.set_option('display.max_colwidth', None)"
   ]
  },
  {
   "cell_type": "code",
   "execution_count": 19,
   "metadata": {},
   "outputs": [
    {
     "name": "stdout",
     "output_type": "stream",
     "text": [
      "<class 'pandas.core.frame.DataFrame'>\n",
      "RangeIndex: 216930 entries, 0 to 216929\n",
      "Data columns (total 7 columns):\n",
      " #   Column       Non-Null Count   Dtype \n",
      "---  ------       --------------   ----- \n",
      " 0   Show Number  216930 non-null  int64 \n",
      " 1    Air Date    216930 non-null  object\n",
      " 2    Round       216930 non-null  object\n",
      " 3    Category    216930 non-null  object\n",
      " 4    Value       216930 non-null  object\n",
      " 5    Question    216930 non-null  object\n",
      " 6    Answer      216928 non-null  object\n",
      "dtypes: int64(1), object(6)\n",
      "memory usage: 11.6+ MB\n",
      "None\n"
     ]
    }
   ],
   "source": [
    "# loading the data\n",
    "jeopardy = pd.read_csv('jeopardy.csv')\n",
    "# Investigating file content\n",
    "print(jeopardy.info())"
   ]
  },
  {
   "cell_type": "code",
   "execution_count": 22,
   "metadata": {},
   "outputs": [],
   "source": [
    "# Renaming columns \n",
    "#jeopardy.rename(columns={'Show Number':'Show_Number', ' Air Date' : 'Air_Date', ' Round' : 'Round', }, inplace = True)\n",
    "jeopardy.columns = ['Show_Number', 'Air_Date', 'Round', 'Category', 'Value', 'Question', 'Answer']"
   ]
  },
  {
   "cell_type": "code",
   "execution_count": 23,
   "metadata": {},
   "outputs": [
    {
     "name": "stdout",
     "output_type": "stream",
     "text": [
      "   Show_Number    Air_Date      Round                         Category Value  \\\n",
      "0         4680  2004-12-31  Jeopardy!                          HISTORY  $200   \n",
      "1         4680  2004-12-31  Jeopardy!  ESPN's TOP 10 ALL-TIME ATHLETES  $200   \n",
      "2         4680  2004-12-31  Jeopardy!      EVERYBODY TALKS ABOUT IT...  $200   \n",
      "3         4680  2004-12-31  Jeopardy!                 THE COMPANY LINE  $200   \n",
      "4         4680  2004-12-31  Jeopardy!              EPITAPHS & TRIBUTES  $200   \n",
      "\n",
      "                                                                                                      Question  \\\n",
      "0             For the last 8 years of his life, Galileo was under house arrest for espousing this man's theory   \n",
      "1  No. 2: 1912 Olympian; football star at Carlisle Indian School; 6 MLB seasons with the Reds, Giants & Braves   \n",
      "2                     The city of Yuma in this state has a record average of 4,055 hours of sunshine each year   \n",
      "3                         In 1963, live on \"The Art Linkletter Show\", this company served its billionth burger   \n",
      "4     Signer of the Dec. of Indep., framer of the Constitution of Mass., second President of the United States   \n",
      "\n",
      "       Answer  \n",
      "0  Copernicus  \n",
      "1  Jim Thorpe  \n",
      "2     Arizona  \n",
      "3  McDonald's  \n",
      "4  John Adams  \n"
     ]
    }
   ],
   "source": [
    "print(jeopardy.head())"
   ]
  },
  {
   "cell_type": "code",
   "execution_count": 27,
   "metadata": {},
   "outputs": [
    {
     "name": "stdout",
     "output_type": "stream",
     "text": [
      "        Show_Number    Air_Date             Round       Category Value  \\\n",
      "94817          4346  2003-06-23         Jeopardy!  GOING \"N\"SANE  $200   \n",
      "143297         6177  2011-06-21  Double Jeopardy!        NOTHING  $400   \n",
      "\n",
      "                                                               Question Answer  \n",
      "94817                                      It often precedes \"and void\"    NaN  \n",
      "143297  This word for \"nothing\" precedes \"and void\" to mean \"not valid\"    NaN  \n"
     ]
    }
   ],
   "source": [
    "# Checkin missing values to the column 'Answer'\n",
    "print(jeopardy[jeopardy.Answer.isnull()])\n"
   ]
  },
  {
   "cell_type": "code",
   "execution_count": 32,
   "metadata": {},
   "outputs": [],
   "source": [
    "# Fixing missing values in the column 'Answer'\n",
    "jeopardy.at[94817, 'Answer'] = 'null'\n",
    "jeopardy.at[143297, 'Answer'] = 'null'"
   ]
  },
  {
   "cell_type": "code",
   "execution_count": 25,
   "metadata": {},
   "outputs": [
    {
     "name": "stdout",
     "output_type": "stream",
     "text": [
      "0                Jeopardy!\n",
      "1                Jeopardy!\n",
      "2                Jeopardy!\n",
      "3                Jeopardy!\n",
      "4                Jeopardy!\n",
      "                ...       \n",
      "216925    Double Jeopardy!\n",
      "216926    Double Jeopardy!\n",
      "216927    Double Jeopardy!\n",
      "216928    Double Jeopardy!\n",
      "216929     Final Jeopardy!\n",
      "Name: Round, Length: 216930, dtype: object\n"
     ]
    }
   ],
   "source": [
    "# Printing out specific columns\n",
    "print(jeopardy.Round)"
   ]
  },
  {
   "cell_type": "code",
   "execution_count": 26,
   "metadata": {},
   "outputs": [
    {
     "name": "stdout",
     "output_type": "stream",
     "text": [
      "0                                 HISTORY\n",
      "1         ESPN's TOP 10 ALL-TIME ATHLETES\n",
      "2             EVERYBODY TALKS ABOUT IT...\n",
      "3                        THE COMPANY LINE\n",
      "4                     EPITAPHS & TRIBUTES\n",
      "                       ...               \n",
      "216925                     RIDDLE ME THIS\n",
      "216926                          \"T\" BIRDS\n",
      "216927             AUTHORS IN THEIR YOUTH\n",
      "216928                         QUOTATIONS\n",
      "216929                     HISTORIC NAMES\n",
      "Name: Category, Length: 216930, dtype: object\n"
     ]
    }
   ],
   "source": [
    "# Printing out specific columns\n",
    "print(jeopardy.Category)"
   ]
  },
  {
   "cell_type": "markdown",
   "metadata": {},
   "source": [
    "2. Writing a function that filters the dataset for questions that contains all of the words in a list of words. For example, when the list `[\"King\", \"England\"]` was passed to the function, the function returned a DataFrame of 152 rows. Every row had the strings `\"King\"` and `\"England\"` somewhere in its `\" Question\"`."
   ]
  },
  {
   "cell_type": "code",
   "execution_count": 80,
   "metadata": {},
   "outputs": [],
   "source": [
    "def filter_questions(word_list, df):\n",
    "    mask = df['Question'].apply(\n",
    "        lambda q: all(word.lower() in q.lower() for word in word_list)\n",
    "        #lambda q: all(word in q for word in word_list)\n",
    "    )\n",
    "    return df[mask]"
   ]
  },
  {
   "cell_type": "code",
   "execution_count": 81,
   "metadata": {},
   "outputs": [],
   "source": [
    "# Testing the function:\n",
    "filtered = filter_questions([\"King\", \"England\"], jeopardy)"
   ]
  },
  {
   "cell_type": "code",
   "execution_count": 82,
   "metadata": {},
   "outputs": [
    {
     "name": "stdout",
     "output_type": "stream",
     "text": [
      "(152, 8)\n"
     ]
    }
   ],
   "source": [
    "print(filtered.shape)"
   ]
  },
  {
   "cell_type": "code",
   "execution_count": 83,
   "metadata": {},
   "outputs": [
    {
     "name": "stdout",
     "output_type": "stream",
     "text": [
      "       Show_Number    Air_Date             Round               Category  \\\n",
      "4953          3003  1997-09-24  Double Jeopardy!           \"PH\"UN WORDS   \n",
      "6337          3517  1999-12-14  Double Jeopardy!                    Y1K   \n",
      "9191          3907  2001-09-04  Double Jeopardy!         WON THE BATTLE   \n",
      "11710         2903  1997-03-26  Double Jeopardy!       BRITISH MONARCHS   \n",
      "13454         4726  2005-03-07         Jeopardy!  A NUMBER FROM 1 TO 10   \n",
      "\n",
      "       Value  \\\n",
      "4953    $200   \n",
      "6337    $800   \n",
      "9191    $800   \n",
      "11710   $600   \n",
      "13454  $1000   \n",
      "\n",
      "                                                                                                     Question  \\\n",
      "4953                 Both England's King George V & FDR put their stamp of approval on this \"King of Hobbies\"   \n",
      "6337   In retaliation for Viking raids, this \"Unready\" king of England attacks Norse areas of the Isle of Man   \n",
      "9191                 This king of England beat the odds to trounce the French in the 1415 Battle of Agincourt   \n",
      "11710            This Scotsman, the first Stuart king of England, was called \"The Wisest Fool in Christendom\"   \n",
      "13454                                    It's the number that followed the last king of England named William   \n",
      "\n",
      "                             Answer  Value_numeric  \n",
      "4953   Philately (stamp collecting)          200.0  \n",
      "6337                       Ethelred          800.0  \n",
      "9191                        Henry V          800.0  \n",
      "11710                       James I          600.0  \n",
      "13454                             4         1000.0  \n"
     ]
    }
   ],
   "source": [
    "print(filtered.head())"
   ]
  },
  {
   "cell_type": "code",
   "execution_count": 84,
   "metadata": {},
   "outputs": [
    {
     "data": {
      "text/html": [
       "<div>\n",
       "<style scoped>\n",
       "    .dataframe tbody tr th:only-of-type {\n",
       "        vertical-align: middle;\n",
       "    }\n",
       "\n",
       "    .dataframe tbody tr th {\n",
       "        vertical-align: top;\n",
       "    }\n",
       "\n",
       "    .dataframe thead th {\n",
       "        text-align: right;\n",
       "    }\n",
       "</style>\n",
       "<table border=\"1\" class=\"dataframe\">\n",
       "  <thead>\n",
       "    <tr style=\"text-align: right;\">\n",
       "      <th></th>\n",
       "      <th>Show_Number</th>\n",
       "      <th>Air_Date</th>\n",
       "      <th>Round</th>\n",
       "      <th>Category</th>\n",
       "      <th>Value</th>\n",
       "      <th>Question</th>\n",
       "      <th>Answer</th>\n",
       "      <th>Value_numeric</th>\n",
       "    </tr>\n",
       "  </thead>\n",
       "  <tbody>\n",
       "    <tr>\n",
       "      <th>4953</th>\n",
       "      <td>3003</td>\n",
       "      <td>1997-09-24</td>\n",
       "      <td>Double Jeopardy!</td>\n",
       "      <td>\"PH\"UN WORDS</td>\n",
       "      <td>$200</td>\n",
       "      <td>Both England's King George V &amp; FDR put their stamp of approval on this \"King of Hobbies\"</td>\n",
       "      <td>Philately (stamp collecting)</td>\n",
       "      <td>200.0</td>\n",
       "    </tr>\n",
       "  </tbody>\n",
       "</table>\n",
       "</div>"
      ],
      "text/plain": [
       "      Show_Number    Air_Date             Round      Category Value  \\\n",
       "4953         3003  1997-09-24  Double Jeopardy!  \"PH\"UN WORDS  $200   \n",
       "\n",
       "                                                                                      Question  \\\n",
       "4953  Both England's King George V & FDR put their stamp of approval on this \"King of Hobbies\"   \n",
       "\n",
       "                            Answer  Value_numeric  \n",
       "4953  Philately (stamp collecting)          200.0  "
      ]
     },
     "execution_count": 84,
     "metadata": {},
     "output_type": "execute_result"
    }
   ],
   "source": [
    " filter_questions([\"Both England's King George V & FDR put their stamp of approval on this\"], jeopardy)"
   ]
  },
  {
   "cell_type": "markdown",
   "metadata": {},
   "source": [
    "3. Testing  **filter_questions** function with a few different sets of words to try to find some ways the function breaks. Optimizing the function.\n",
    "   \n",
    "Also, making sure function doesn't find rows that contain substrings of the given words. For example, if function found a question that didn't contain the word `\"king\"`, however it did contain the word `\"viking\"` &mdash; it found the `\"king\"` inside `\"viking\"`. (Note that this also comes with some drawbacks &mdash; function will no longer find questions that contained words like `\"England's\")`."
   ]
  },
  {
   "cell_type": "code",
   "execution_count": 85,
   "metadata": {},
   "outputs": [],
   "source": [
    "import re\n",
    "def filter_questions_vol_2(word_list, df):\n",
    "    pattern_list = [r'\\b' + re.escape(word.lower()) + r'\\b' for word in word_list]\n",
    "    mask = df['Question'].apply(\n",
    "        lambda q: all(re.search(pattern, q.lower()) for pattern in pattern_list)\n",
    "    )\n",
    "    return df[mask]"
   ]
  },
  {
   "cell_type": "code",
   "execution_count": 88,
   "metadata": {},
   "outputs": [
    {
     "name": "stdout",
     "output_type": "stream",
     "text": [
      "(118, 8)\n",
      "       Show_Number    Air_Date             Round          Category Value  \\\n",
      "4953          3003  1997-09-24  Double Jeopardy!      \"PH\"UN WORDS  $200   \n",
      "6337          3517  1999-12-14  Double Jeopardy!               Y1K  $800   \n",
      "9191          3907  2001-09-04  Double Jeopardy!    WON THE BATTLE  $800   \n",
      "11710         2903  1997-03-26  Double Jeopardy!  BRITISH MONARCHS  $600   \n",
      "\n",
      "                                                                                                     Question  \\\n",
      "4953                 Both England's King George V & FDR put their stamp of approval on this \"King of Hobbies\"   \n",
      "6337   In retaliation for Viking raids, this \"Unready\" king of England attacks Norse areas of the Isle of Man   \n",
      "9191                 This king of England beat the odds to trounce the French in the 1415 Battle of Agincourt   \n",
      "11710            This Scotsman, the first Stuart king of England, was called \"The Wisest Fool in Christendom\"   \n",
      "\n",
      "                             Answer  Value_numeric  \n",
      "4953   Philately (stamp collecting)          200.0  \n",
      "6337                       Ethelred          800.0  \n",
      "9191                        Henry V          800.0  \n",
      "11710                       James I          600.0  \n"
     ]
    }
   ],
   "source": [
    "filtered_2 = filter_questions_vol_2([\"King\", \"England\"], jeopardy)\n",
    "print(filtered_2.shape)\n",
    "print(filtered_2.head(4))"
   ]
  },
  {
   "cell_type": "markdown",
   "metadata": {},
   "source": [
    "4. Computing aggregate statistics, like `.mean()` on the `\" Value\"` column. First converting Value column to floats.\n",
    "\n",
    "   Now that it is possible to filter the dataset of question, lets use the new column that contains the float values of each question to find the \"difficulty\" of certain topics. For example, what is the average value of questions that contain the word `\"King\"`?\n",
    "   \n"
   ]
  },
  {
   "cell_type": "code",
   "execution_count": 36,
   "metadata": {},
   "outputs": [
    {
     "name": "stdout",
     "output_type": "stream",
     "text": [
      "3634\n"
     ]
    }
   ],
   "source": [
    "# Checking how many records has 'no value' in Value column\n",
    "print(jeopardy[jeopardy['Value'] == 'no value'].shape[0])"
   ]
  },
  {
   "cell_type": "code",
   "execution_count": 99,
   "metadata": {},
   "outputs": [],
   "source": [
    "def filter_values(sign, df):\n",
    "    mask = df[\"Value\"].apply(\n",
    "        lambda q: sign in q\n",
    "    )\n",
    "    return df[mask]"
   ]
  },
  {
   "cell_type": "code",
   "execution_count": 108,
   "metadata": {},
   "outputs": [
    {
     "name": "stdout",
     "output_type": "stream",
     "text": [
      "(0, 8)\n",
      "(0, 8)\n",
      "(0, 8)\n"
     ]
    }
   ],
   "source": [
    "filterred = filter_values('€', jeopardy)\n",
    "print(filterred.shape)\n",
    "\n",
    "filterred = filter_values('PLN', jeopardy)\n",
    "print(filterred.shape)\n",
    "\n",
    "filterred = filter_values('£', jeopardy)\n",
    "print(filterred.shape)\n",
    "\n",
    "\n",
    "#filter_values(\"$\", jeopardy)\n"
   ]
  },
  {
   "cell_type": "code",
   "execution_count": 40,
   "metadata": {},
   "outputs": [],
   "source": [
    "# Creating new column with the values converted to numerics\n",
    "jeopardy['Value_numeric'] = jeopardy['Value'].apply(lambda x: int(x.replace('$', '').replace(',', '')) if x != 'no value' else None)"
   ]
  },
  {
   "cell_type": "code",
   "execution_count": 41,
   "metadata": {},
   "outputs": [
    {
     "data": {
      "text/plain": [
       "160525700.0"
      ]
     },
     "execution_count": 41,
     "metadata": {},
     "output_type": "execute_result"
    }
   ],
   "source": [
    "jeopardy.Value_numeric.sum()"
   ]
  },
  {
   "cell_type": "code",
   "execution_count": 121,
   "metadata": {},
   "outputs": [
    {
     "name": "stdout",
     "output_type": "stream",
     "text": [
      "(2744, 8)\n",
      "Average value of the questions that contain the word King is: $817.6\n",
      "Max value of the questions that contain the word King is: $9000.0\n",
      "Min value of the questions that contain the word King is: $100.0\n"
     ]
    }
   ],
   "source": [
    "# What is the average value of questions that contain the word \"King\"? What is the max value?\n",
    "data_king = filter_questions_vol_2([\"King\"], jeopardy)\n",
    "print(data_king.shape)\n",
    "\n",
    "mean_king = data_king.Value_numeric.mean()\n",
    "max_king = data_king.Value_numeric.max()\n",
    "min_king = data_king.Value_numeric.min()\n",
    "\n",
    "print(\"Average value of the questions that contain the word King is: ${}\".format(round(mean_king, 2)))\n",
    "print(\"Max value of the questions that contain the word King is: ${}\".format(round(max_king, 2)))\n",
    "print(\"Min value of the questions that contain the word King is: ${}\".format(round(min_king, 2)))\n"
   ]
  },
  {
   "cell_type": "code",
   "execution_count": 124,
   "metadata": {},
   "outputs": [
    {
     "name": "stdout",
     "output_type": "stream",
     "text": [
      "(3, 8)\n",
      "Average value of the questions that contain the words King and viking is: $1466.67\n",
      "Max value of the questions that contain the words King and viking is: $2000.0\n",
      "Min value of the questions that contain the words King and viking is: $800.0\n"
     ]
    }
   ],
   "source": [
    "# What is the average value of questions that contain the word \"King\" and \"viking\"? What is the max value?\n",
    "data_king = filter_questions_vol_2([\"King\", \"viking\"], jeopardy)\n",
    "print(data_king.shape)\n",
    "\n",
    "mean_king = data_king.Value_numeric.mean()\n",
    "max_king = data_king.Value_numeric.max()\n",
    "min_king = data_king.Value_numeric.min()\n",
    "\n",
    "print(\"Average value of the questions that contain the words King and viking is: ${}\".format(round(mean_king, 2)))\n",
    "print(\"Max value of the questions that contain the words King and viking is: ${}\".format(round(max_king, 2)))\n",
    "print(\"Min value of the questions that contain the words King and viking is: ${}\".format(round(min_king, 2)))\n"
   ]
  },
  {
   "cell_type": "markdown",
   "metadata": {},
   "source": [
    "5. Writing a function that returns the count of unique answers to all of the questions in a dataset. For example, after filtering the entire dataset to only questions containing the word `\"King\"`, it would be possible then to find all of the unique answers to those questions. The answer \"Henry VIII\" appeared 55 times and was the most common answer."
   ]
  },
  {
   "cell_type": "code",
   "execution_count": 129,
   "metadata": {},
   "outputs": [],
   "source": [
    "def unique_answers(df, words_list):\n",
    "    data = filter_questions_vol_2(words_list, df)\n",
    "    print(\"There are {} unique answers\".\n",
    "    return data.Answer.nunique()"
   ]
  },
  {
   "cell_type": "code",
   "execution_count": 130,
   "metadata": {},
   "outputs": [
    {
     "data": {
      "text/plain": [
       "1499"
      ]
     },
     "execution_count": 130,
     "metadata": {},
     "output_type": "execute_result"
    }
   ],
   "source": [
    "unique_answers(jeopardy, [\"King\"])"
   ]
  },
  {
   "cell_type": "code",
   "execution_count": 138,
   "metadata": {},
   "outputs": [],
   "source": [
    "def most_common_answer(df, words_list):\n",
    "    data = filter_questions_vol_2(words_list, df)\n",
    "    counts = data['Answer'].value_counts()\n",
    "    print(\"The most common answer is '{}' and it appears {} times.\".format(data['Answer'].value_counts().idxmax(), counts.max()))\n",
    "    return data['Answer'].value_counts().idxmax()\n",
    "    "
   ]
  },
  {
   "cell_type": "code",
   "execution_count": 139,
   "metadata": {},
   "outputs": [
    {
     "name": "stdout",
     "output_type": "stream",
     "text": [
      "The most common answer is 'Henry VIII' and it appears 54 times.\n"
     ]
    },
    {
     "data": {
      "text/plain": [
       "'Henry VIII'"
      ]
     },
     "execution_count": 139,
     "metadata": {},
     "output_type": "execute_result"
    }
   ],
   "source": [
    "most_common_answer(jeopardy, [\"King\"])"
   ]
  }
 ],
 "metadata": {
  "kernelspec": {
   "display_name": "Python 3 (ipykernel)",
   "language": "python",
   "name": "python3"
  },
  "language_info": {
   "codemirror_mode": {
    "name": "ipython",
    "version": 3
   },
   "file_extension": ".py",
   "mimetype": "text/x-python",
   "name": "python",
   "nbconvert_exporter": "python",
   "pygments_lexer": "ipython3",
   "version": "3.12.7"
  }
 },
 "nbformat": 4,
 "nbformat_minor": 4
}
